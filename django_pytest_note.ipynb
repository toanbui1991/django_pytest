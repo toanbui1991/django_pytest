{
 "cells": [
  {
   "cell_type": "code",
   "execution_count": null,
   "metadata": {},
   "outputs": [],
   "source": [
    "#create remote repo on github.com\n",
    "#clone the remote repo with command: git clone <remote_url>\n",
    "#change to the root directory with commnd: cd directory_name\n",
    "#create virtual environment: python3 -m venv venv\n",
    "#activate virtual environment: source venv/bin/activate\n",
    "#install django after activate virtual environement: pip install Django\n",
    "#using django-admin to start project at root: django-admin startproject <project_name> . the dot means start project at current directory\n",
    "#change directory to project: cd <project_name>\n",
    "#start application with django-admin command: django-admin startapp <app_name>"
   ]
  },
  {
   "cell_type": "markdown",
   "metadata": {},
   "source": [
    "**Set up tests directory:**\n",
    "- create tests directory as root directory\n",
    "- install pytest and pytest-django\n",
    "- create file pytest.ini to config pytest with django\n",
    "- config pytest.ini\n",
    "    - point pytest to your <project_name>.settings\n",
    "    - python_files to specify test_file in tests directory\n",
    "- define your first test in /tests/test_ex1.py\n",
    "    - a test case is just a function with assert and testing code\n",
    "    - run all test with pytest command: pytest. You have to stay at project root directory\n"
   ]
  }
 ],
 "metadata": {
  "kernelspec": {
   "display_name": "Python 3.10.6 64-bit",
   "language": "python",
   "name": "python3"
  },
  "language_info": {
   "name": "python",
   "version": "3.10.6"
  },
  "orig_nbformat": 4,
  "vscode": {
   "interpreter": {
    "hash": "916dbcbb3f70747c44a77c7bcd40155683ae19c65e1c03b4aa3499c5328201f1"
   }
  }
 },
 "nbformat": 4,
 "nbformat_minor": 2
}
